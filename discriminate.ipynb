{
 "cells": [
  {
   "cell_type": "code",
   "execution_count": 3,
   "metadata": {},
   "outputs": [],
   "source": [
    "import japanize_matplotlib\n",
    "from pathlib import Path\n",
    "from collections import Counter, OrderedDict\n",
    "from itertools import combinations, dropwhile\n",
    "from networkx.drawing import nx_agraph\n",
    "import seaborn as sns\n",
    "import matplotlib.pyplot as plt\n",
    "import matplotlib.cm as cm\n",
    "import networkx as nx\n",
    "import pandas as pd\n",
    "import MeCab\n",
    "import csv\n",
    "import re\n",
    "import itertools\n",
    "import numpy as np\n",
    "from gensim.models import Word2Vec"
   ]
  },
  {
   "cell_type": "code",
   "execution_count": 49,
   "metadata": {},
   "outputs": [],
   "source": [
    "from konlpy.tag import Hannanum\n",
    "import csv\n",
    "import numpy as np\n",
    "from requests_oauthlib import OAuth1Session\n",
    "import json\n",
    "import tweepy"
   ]
  },
  {
   "cell_type": "code",
   "execution_count": 14,
   "metadata": {
    "tags": []
   },
   "outputs": [
    {
     "output_type": "stream",
     "name": "stdout",
     "text": [
      "text_list: @BTS_twt 헝ㅠㅠㅠㅠ태형아ㅏㅏㅠㅠㅠㅠ죤잘ㅠㅠㅠ\nphoto_list: 사랑해 @BTS_twt https://t.co/tfCLqqZzzh\nDori_i13\n"
     ]
    }
   ],
   "source": [
    "hannanum = Hannanum()\n",
    "\n",
    "text_list = []\n",
    "photo_list = []\n",
    "user_name = []\n",
    "with open('./data/bts.csv','r', encoding='utf-8') as file:\n",
    "    reader = csv.reader(file)\n",
    "    for i,row in enumerate(reader):\n",
    "        z = 0\n",
    "        if i % 2 == 0:\n",
    "            text = hannanum.pos(row[1])\n",
    "            user_name.append(row[0])\n",
    "            for i in range(len(text)):\n",
    "                if text[i][1] == \"F\":\n",
    "                    z = 1\n",
    "                    break\n",
    "                else:\n",
    "                    z = 0\n",
    "            if z == 0: text_list.append(row[1])\n",
    "            elif z == 1: photo_list.append(row[1])\n",
    "\n",
    "# text_list : text로만 되어 있는 tweet의 수 \n",
    "print(\"text_list:\",len(text_list))\n",
    "# photo_list : photo나 movie를 보함한 tweet의 수 \n",
    "print(\"photo_list:\",len(photo_list))\n",
    "print(user_name[0])"
   ]
  },
  {
   "cell_type": "code",
   "execution_count": 50,
   "metadata": {},
   "outputs": [],
   "source": [
    "api_key = 'PmeYdimCGuvE3y5NwjmYEq1xg'\n",
    "api_secret_key = '3yNAHkyRj72Fxo7DKHTKSzf61OAmdJ8ZKPl4GzPrykl37N3hih'\n",
    "access_token ='1315675049454575617-9FeTS56XAzkbsoY372G43V6clXWnN9'\n",
    "access_secret_token = 'T6NEGRVMBBjbKxtMMYK7WdAu7WunIPk2mLWjH4PR1eXce'\n",
    "\n",
    "auth = tweepy.OAuthHandler(api_key, api_secret_key)\n",
    "auth.set_access_token(access_token, access_secret_token)\n",
    "api = tweepy.API(auth, wait_on_rate_limit = True) # API利用制限にかかった場合、解除まで待機する   \n",
    "twitter = auth.oauth"
   ]
  },
  {
   "cell_type": "code",
   "execution_count": 73,
   "metadata": {
    "tags": []
   },
   "outputs": [],
   "source": [
    "# timeline취득\n",
    "url = \"https://api.twitter.com/1.1/statuses/user_timeline.json\"\n",
    "\n",
    "timeline_list = []\n",
    "for i,name in enumerate(user_name):\n",
    "    #print(\"================================================\")\n",
    "    #print(name)\n",
    "    sub = []\n",
    "    # パラメータ\n",
    "    params = {\n",
    "        \"count\": 10,\n",
    "        \"screen_name\": name,\n",
    "        \"include_entities\": True,\n",
    "        \"exclude_replies\": False,\n",
    "        \"include_rts\": False,\n",
    "    }\n",
    "    # response로부터 timeline list취득\n",
    "    res = twitter.get(url, params=params)\n",
    "    if res.status_code == 200:\n",
    "        text = json.loads(res.text)\n",
    "        for line in text:\n",
    "            sub.append(line['text'])\n",
    "        timeline_list.append(sub)\n",
    "    if i > 3:\n",
    "        break\n",
    "\n",
    "#print(timeline_list)"
   ]
  },
  {
   "cell_type": "code",
   "execution_count": null,
   "metadata": {},
   "outputs": [],
   "source": []
  }
 ],
 "metadata": {
  "kernelspec": {
   "display_name": "Python 3",
   "language": "python",
   "name": "python3"
  },
  "language_info": {
   "codemirror_mode": {
    "name": "ipython",
    "version": 3
   },
   "file_extension": ".py",
   "mimetype": "text/x-python",
   "name": "python",
   "nbconvert_exporter": "python",
   "pygments_lexer": "ipython3",
   "version": "3.8.1-final"
  }
 },
 "nbformat": 4,
 "nbformat_minor": 4
}
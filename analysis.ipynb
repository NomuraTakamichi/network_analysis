{
 "cells": [
  {
   "cell_type": "code",
   "execution_count": 39,
   "metadata": {},
   "outputs": [],
   "source": [
    "from konlpy.tag import Hannanum\n",
    "import csv\n",
    "import numpy as np"
   ]
  },
  {
   "cell_type": "code",
   "execution_count": 73,
   "metadata": {
    "tags": []
   },
   "outputs": [
    {
     "name": "stdout",
     "output_type": "stream",
     "text": [
      "text_list: 4452\n",
      "photo_list: 1548\n"
     ]
    }
   ],
   "source": [
    "hannanum = Hannanum()\n",
    "\n",
    "text_list = []\n",
    "photo_list = []\n",
    "\n",
    "with open('./data/drama_1101.csv','r', encoding='utf-16') as file:\n",
    "    reader = csv.reader(file)\n",
    "    for i,row in enumerate(reader):\n",
    "        z = 0\n",
    "        if i % 2 == 0:\n",
    "            text = hannanum.pos(row[0])\n",
    "            for i in range(len(text)):\n",
    "                if text[i][1] == \"F\":\n",
    "                    z = 1\n",
    "                    break\n",
    "                else:\n",
    "                    z = 0\n",
    "            if z == 0: text_list.append(row[0])\n",
    "            elif z == 1: photo_list.append(row[0])\n",
    "\n",
    "# text_list : text로만 되어 있는 tweet의 수 \n",
    "print(\"text_list:\",len(text_list))\n",
    "# photo_list : photo나 movie를 보함한 tweet의 수 \n",
    "print(\"photo_list:\",len(photo_list))"
   ]
  },
  {
   "cell_type": "code",
   "execution_count": null,
   "metadata": {},
   "outputs": [],
   "source": []
  }
 ],
 "metadata": {
  "kernelspec": {
   "display_name": "Python 3",
   "language": "python",
   "name": "python3"
  },
  "language_info": {
   "codemirror_mode": {
    "name": "ipython",
    "version": 3
   },
   "file_extension": ".py",
   "mimetype": "text/x-python",
   "name": "python",
   "nbconvert_exporter": "python",
   "pygments_lexer": "ipython3",
   "version": "3.7.4"
  }
 },
 "nbformat": 4,
 "nbformat_minor": 4
}
